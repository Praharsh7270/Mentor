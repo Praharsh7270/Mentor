{
 "cells": [
  {
   "cell_type": "code",
   "execution_count": 15,
   "id": "0dda2e4b-e457-4e85-8232-4013ea973213",
   "metadata": {},
   "outputs": [
    {
     "name": "stderr",
     "output_type": "stream",
     "text": [
      "\n",
      "[notice] A new release of pip available: 22.3.1 -> 25.1.1\n",
      "[notice] To update, run: python.exe -m pip install --upgrade pip\n"
     ]
    }
   ],
   "source": [
    "!pip install datasets transformers[sentencepiece] sacrebleu -q"
   ]
  },
  {
   "cell_type": "code",
   "execution_count": 9,
   "id": "976d06ed-0161-486c-a5a0-8302d27b71f6",
   "metadata": {},
   "outputs": [],
   "source": [
    "import os\n",
    "import sys\n",
    "import transformers\n",
    "import tensorflow as tf\n",
    "from datasets import load_dataset\n",
    "from transformers import AutoTokenizer \n",
    "from transformers import TFAutoModelForSeq2SeqLM, DataCollatorForSeq2Seq\n",
    "from transformers import AdamWeightDecay\n",
    "from transformers import AutoTokenizer, TFAutoModelForSeq2SeqLM"
   ]
  },
  {
   "cell_type": "code",
   "execution_count": 3,
   "id": "08212bc0-15df-4eb3-90d5-edb61b945ea6",
   "metadata": {
    "scrolled": true
   },
   "outputs": [
    {
     "name": "stdout",
     "output_type": "stream",
     "text": [
      "Requirement already satisfied: transformers in c:\\users\\hp\\desktop\\ml\\gpu se chalana\\rtx\\lib\\site-packages (4.54.0)"
     ]
    },
    {
     "name": "stderr",
     "output_type": "stream",
     "text": [
      "\n",
      "[notice] A new release of pip available: 22.3.1 -> 25.1.1\n",
      "[notice] To update, run: python.exe -m pip install --upgrade pip\n"
     ]
    },
    {
     "name": "stdout",
     "output_type": "stream",
     "text": [
      "\n",
      "Requirement already satisfied: filelock in c:\\users\\hp\\desktop\\ml\\gpu se chalana\\rtx\\lib\\site-packages (from transformers) (3.18.0)\n",
      "Requirement already satisfied: requests in c:\\users\\hp\\desktop\\ml\\gpu se chalana\\rtx\\lib\\site-packages (from transformers) (2.32.4)\n",
      "Requirement already satisfied: huggingface-hub<1.0,>=0.34.0 in c:\\users\\hp\\desktop\\ml\\gpu se chalana\\rtx\\lib\\site-packages (from transformers) (0.34.1)\n",
      "Requirement already satisfied: tqdm>=4.27 in c:\\users\\hp\\desktop\\ml\\gpu se chalana\\rtx\\lib\\site-packages (from transformers) (4.67.1)\n",
      "Requirement already satisfied: numpy>=1.17 in c:\\users\\hp\\desktop\\ml\\gpu se chalana\\rtx\\lib\\site-packages (from transformers) (2.1.3)\n",
      "Requirement already satisfied: pyyaml>=5.1 in c:\\users\\hp\\desktop\\ml\\gpu se chalana\\rtx\\lib\\site-packages (from transformers) (6.0.2)\n",
      "Requirement already satisfied: regex!=2019.12.17 in c:\\users\\hp\\desktop\\ml\\gpu se chalana\\rtx\\lib\\site-packages (from transformers) (2024.11.6)\n",
      "Requirement already satisfied: safetensors>=0.4.3 in c:\\users\\hp\\desktop\\ml\\gpu se chalana\\rtx\\lib\\site-packages (from transformers) (0.5.3)\n",
      "Requirement already satisfied: packaging>=20.0 in c:\\users\\hp\\desktop\\ml\\gpu se chalana\\rtx\\lib\\site-packages (from transformers) (25.0)\n",
      "Requirement already satisfied: tokenizers<0.22,>=0.21 in c:\\users\\hp\\desktop\\ml\\gpu se chalana\\rtx\\lib\\site-packages (from transformers) (0.21.2)\n",
      "Requirement already satisfied: typing-extensions>=3.7.4.3 in c:\\users\\hp\\desktop\\ml\\gpu se chalana\\rtx\\lib\\site-packages (from huggingface-hub<1.0,>=0.34.0->transformers) (4.14.1)\n",
      "Requirement already satisfied: fsspec>=2023.5.0 in c:\\users\\hp\\desktop\\ml\\gpu se chalana\\rtx\\lib\\site-packages (from huggingface-hub<1.0,>=0.34.0->transformers) (2025.3.0)\n",
      "Requirement already satisfied: colorama in c:\\users\\hp\\desktop\\ml\\gpu se chalana\\rtx\\lib\\site-packages (from tqdm>=4.27->transformers) (0.4.6)\n",
      "Requirement already satisfied: idna<4,>=2.5 in c:\\users\\hp\\desktop\\ml\\gpu se chalana\\rtx\\lib\\site-packages (from requests->transformers) (3.10)\n",
      "Requirement already satisfied: charset_normalizer<4,>=2 in c:\\users\\hp\\desktop\\ml\\gpu se chalana\\rtx\\lib\\site-packages (from requests->transformers) (3.4.2)\n",
      "Requirement already satisfied: certifi>=2017.4.17 in c:\\users\\hp\\desktop\\ml\\gpu se chalana\\rtx\\lib\\site-packages (from requests->transformers) (2025.7.14)\n",
      "Requirement already satisfied: urllib3<3,>=1.21.1 in c:\\users\\hp\\desktop\\ml\\gpu se chalana\\rtx\\lib\\site-packages (from requests->transformers) (2.5.0)\n"
     ]
    }
   ],
   "source": [
    "!pip install transformers"
   ]
  },
  {
   "cell_type": "code",
   "execution_count": 8,
   "id": "0ba40bcb-70f3-41fe-9f7c-f985b2851d07",
   "metadata": {
    "scrolled": true
   },
   "outputs": [
    {
     "name": "stdout",
     "output_type": "stream",
     "text": [
      "Collecting datasets\n",
      "  Downloading datasets-4.0.0-py3-none-any.whl.metadata (19 kB)\n",
      "Requirement already satisfied: filelock in c:\\users\\hp\\desktop\\ml\\tenser\\tfgpuenv\\lib\\site-packages (from datasets) (3.18.0)\n",
      "Requirement already satisfied: numpy>=1.17 in c:\\users\\hp\\desktop\\ml\\tenser\\tfgpuenv\\lib\\site-packages (from datasets) (1.26.4)\n",
      "Collecting pyarrow>=15.0.0 (from datasets)\n",
      "  Downloading pyarrow-21.0.0-cp310-cp310-win_amd64.whl.metadata (3.4 kB)\n",
      "Collecting dill<0.3.9,>=0.3.0 (from datasets)\n",
      "  Downloading dill-0.3.8-py3-none-any.whl.metadata (10 kB)\n",
      "Requirement already satisfied: pandas in c:\\users\\hp\\desktop\\ml\\tenser\\tfgpuenv\\lib\\site-packages (from datasets) (2.3.0)\n",
      "Requirement already satisfied: requests>=2.32.2 in c:\\users\\hp\\desktop\\ml\\tenser\\tfgpuenv\\lib\\site-packages (from datasets) (2.32.4)\n",
      "Requirement already satisfied: tqdm>=4.66.3 in c:\\users\\hp\\desktop\\ml\\tenser\\tfgpuenv\\lib\\site-packages (from datasets) (4.67.1)\n",
      "Collecting xxhash (from datasets)\n",
      "  Downloading xxhash-3.5.0-cp310-cp310-win_amd64.whl.metadata (13 kB)\n",
      "Collecting multiprocess<0.70.17 (from datasets)\n",
      "  Downloading multiprocess-0.70.16-py310-none-any.whl.metadata (7.2 kB)\n",
      "Collecting fsspec<=2025.3.0,>=2023.1.0 (from fsspec[http]<=2025.3.0,>=2023.1.0->datasets)\n",
      "  Downloading fsspec-2025.3.0-py3-none-any.whl.metadata (11 kB)\n",
      "Requirement already satisfied: huggingface-hub>=0.24.0 in c:\\users\\hp\\desktop\\ml\\tenser\\tfgpuenv\\lib\\site-packages (from datasets) (0.34.1)\n",
      "Requirement already satisfied: packaging in c:\\users\\hp\\desktop\\ml\\tenser\\tfgpuenv\\lib\\site-packages (from datasets) (25.0)\n",
      "Requirement already satisfied: pyyaml>=5.1 in c:\\users\\hp\\desktop\\ml\\tenser\\tfgpuenv\\lib\\site-packages (from datasets) (6.0.2)\n",
      "Collecting aiohttp!=4.0.0a0,!=4.0.0a1 (from fsspec[http]<=2025.3.0,>=2023.1.0->datasets)\n",
      "  Downloading aiohttp-3.12.14-cp310-cp310-win_amd64.whl.metadata (7.9 kB)\n",
      "Collecting aiohappyeyeballs>=2.5.0 (from aiohttp!=4.0.0a0,!=4.0.0a1->fsspec[http]<=2025.3.0,>=2023.1.0->datasets)\n",
      "  Downloading aiohappyeyeballs-2.6.1-py3-none-any.whl.metadata (5.9 kB)\n",
      "Collecting aiosignal>=1.4.0 (from aiohttp!=4.0.0a0,!=4.0.0a1->fsspec[http]<=2025.3.0,>=2023.1.0->datasets)\n",
      "  Downloading aiosignal-1.4.0-py3-none-any.whl.metadata (3.7 kB)\n",
      "Collecting async-timeout<6.0,>=4.0 (from aiohttp!=4.0.0a0,!=4.0.0a1->fsspec[http]<=2025.3.0,>=2023.1.0->datasets)\n",
      "  Downloading async_timeout-5.0.1-py3-none-any.whl.metadata (5.1 kB)\n",
      "Requirement already satisfied: attrs>=17.3.0 in c:\\users\\hp\\desktop\\ml\\tenser\\tfgpuenv\\lib\\site-packages (from aiohttp!=4.0.0a0,!=4.0.0a1->fsspec[http]<=2025.3.0,>=2023.1.0->datasets) (25.3.0)\n",
      "Collecting frozenlist>=1.1.1 (from aiohttp!=4.0.0a0,!=4.0.0a1->fsspec[http]<=2025.3.0,>=2023.1.0->datasets)\n",
      "  Downloading frozenlist-1.7.0-cp310-cp310-win_amd64.whl.metadata (19 kB)\n",
      "Collecting multidict<7.0,>=4.5 (from aiohttp!=4.0.0a0,!=4.0.0a1->fsspec[http]<=2025.3.0,>=2023.1.0->datasets)\n",
      "  Downloading multidict-6.6.3-cp310-cp310-win_amd64.whl.metadata (5.4 kB)\n",
      "Collecting propcache>=0.2.0 (from aiohttp!=4.0.0a0,!=4.0.0a1->fsspec[http]<=2025.3.0,>=2023.1.0->datasets)\n",
      "  Downloading propcache-0.3.2-cp310-cp310-win_amd64.whl.metadata (12 kB)\n",
      "Collecting yarl<2.0,>=1.17.0 (from aiohttp!=4.0.0a0,!=4.0.0a1->fsspec[http]<=2025.3.0,>=2023.1.0->datasets)\n",
      "  Downloading yarl-1.20.1-cp310-cp310-win_amd64.whl.metadata (76 kB)\n",
      "Requirement already satisfied: typing-extensions>=4.1.0 in c:\\users\\hp\\desktop\\ml\\tenser\\tfgpuenv\\lib\\site-packages (from multidict<7.0,>=4.5->aiohttp!=4.0.0a0,!=4.0.0a1->fsspec[http]<=2025.3.0,>=2023.1.0->datasets) (4.14.0)\n",
      "Requirement already satisfied: idna>=2.0 in c:\\users\\hp\\desktop\\ml\\tenser\\tfgpuenv\\lib\\site-packages (from yarl<2.0,>=1.17.0->aiohttp!=4.0.0a0,!=4.0.0a1->fsspec[http]<=2025.3.0,>=2023.1.0->datasets) (3.10)\n",
      "Requirement already satisfied: charset_normalizer<4,>=2 in c:\\users\\hp\\desktop\\ml\\tenser\\tfgpuenv\\lib\\site-packages (from requests>=2.32.2->datasets) (3.4.2)\n",
      "Requirement already satisfied: urllib3<3,>=1.21.1 in c:\\users\\hp\\desktop\\ml\\tenser\\tfgpuenv\\lib\\site-packages (from requests>=2.32.2->datasets) (2.5.0)\n",
      "Requirement already satisfied: certifi>=2017.4.17 in c:\\users\\hp\\desktop\\ml\\tenser\\tfgpuenv\\lib\\site-packages (from requests>=2.32.2->datasets) (2025.6.15)\n",
      "Requirement already satisfied: colorama in c:\\users\\hp\\desktop\\ml\\tenser\\tfgpuenv\\lib\\site-packages (from tqdm>=4.66.3->datasets) (0.4.6)\n",
      "Requirement already satisfied: python-dateutil>=2.8.2 in c:\\users\\hp\\desktop\\ml\\tenser\\tfgpuenv\\lib\\site-packages (from pandas->datasets) (2.9.0.post0)\n",
      "Requirement already satisfied: pytz>=2020.1 in c:\\users\\hp\\desktop\\ml\\tenser\\tfgpuenv\\lib\\site-packages (from pandas->datasets) (2025.2)\n",
      "Requirement already satisfied: tzdata>=2022.7 in c:\\users\\hp\\desktop\\ml\\tenser\\tfgpuenv\\lib\\site-packages (from pandas->datasets) (2025.2)\n",
      "Requirement already satisfied: six>=1.5 in c:\\users\\hp\\desktop\\ml\\tenser\\tfgpuenv\\lib\\site-packages (from python-dateutil>=2.8.2->pandas->datasets) (1.17.0)\n",
      "Downloading datasets-4.0.0-py3-none-any.whl (494 kB)\n",
      "Downloading dill-0.3.8-py3-none-any.whl (116 kB)\n",
      "Downloading fsspec-2025.3.0-py3-none-any.whl (193 kB)\n",
      "Downloading multiprocess-0.70.16-py310-none-any.whl (134 kB)\n",
      "Downloading aiohttp-3.12.14-cp310-cp310-win_amd64.whl (451 kB)\n",
      "Downloading async_timeout-5.0.1-py3-none-any.whl (6.2 kB)\n",
      "Downloading multidict-6.6.3-cp310-cp310-win_amd64.whl (45 kB)\n",
      "Downloading yarl-1.20.1-cp310-cp310-win_amd64.whl (86 kB)\n",
      "Downloading aiohappyeyeballs-2.6.1-py3-none-any.whl (15 kB)\n",
      "Downloading aiosignal-1.4.0-py3-none-any.whl (7.5 kB)\n",
      "Downloading frozenlist-1.7.0-cp310-cp310-win_amd64.whl (43 kB)\n",
      "Downloading propcache-0.3.2-cp310-cp310-win_amd64.whl (41 kB)\n",
      "Downloading pyarrow-21.0.0-cp310-cp310-win_amd64.whl (26.2 MB)\n",
      "   ---------------------------------------- 0.0/26.2 MB ? eta -:--:--\n",
      "   ---------------------------------------- 0.3/26.2 MB ? eta -:--:--\n",
      "   - -------------------------------------- 1.0/26.2 MB 2.8 MB/s eta 0:00:10\n",
      "   --- ------------------------------------ 2.1/26.2 MB 3.4 MB/s eta 0:00:08\n",
      "   ---- ----------------------------------- 2.9/26.2 MB 3.4 MB/s eta 0:00:07\n",
      "   ----- ---------------------------------- 3.7/26.2 MB 3.5 MB/s eta 0:00:07\n",
      "   ------ --------------------------------- 4.2/26.2 MB 3.4 MB/s eta 0:00:07\n",
      "   ------- -------------------------------- 5.0/26.2 MB 3.4 MB/s eta 0:00:07\n",
      "   -------- ------------------------------- 5.8/26.2 MB 3.4 MB/s eta 0:00:07\n",
      "   --------- ------------------------------ 6.3/26.2 MB 3.4 MB/s eta 0:00:06\n",
      "   ----------- ---------------------------- 7.3/26.2 MB 3.4 MB/s eta 0:00:06\n",
      "   ----------- ---------------------------- 7.9/26.2 MB 3.4 MB/s eta 0:00:06\n",
      "   ------------- -------------------------- 8.9/26.2 MB 3.5 MB/s eta 0:00:06\n",
      "   -------------- ------------------------- 9.7/26.2 MB 3.5 MB/s eta 0:00:05\n",
      "   --------------- ------------------------ 10.2/26.2 MB 3.5 MB/s eta 0:00:05\n",
      "   ---------------- ----------------------- 11.0/26.2 MB 3.5 MB/s eta 0:00:05\n",
      "   ----------------- ---------------------- 11.8/26.2 MB 3.5 MB/s eta 0:00:05\n",
      "   ------------------- -------------------- 12.6/26.2 MB 3.5 MB/s eta 0:00:04\n",
      "   -------------------- ------------------- 13.4/26.2 MB 3.5 MB/s eta 0:00:04\n",
      "   --------------------- ------------------ 14.2/26.2 MB 3.5 MB/s eta 0:00:04\n",
      "   ---------------------- ----------------- 14.9/26.2 MB 3.5 MB/s eta 0:00:04\n",
      "   ----------------------- ---------------- 15.7/26.2 MB 3.5 MB/s eta 0:00:03\n",
      "   ------------------------ --------------- 16.3/26.2 MB 3.5 MB/s eta 0:00:03\n",
      "   ------------------------- -------------- 17.0/26.2 MB 3.5 MB/s eta 0:00:03\n",
      "   --------------------------- ------------ 17.8/26.2 MB 3.5 MB/s eta 0:00:03\n",
      "   ---------------------------- ----------- 18.6/26.2 MB 3.5 MB/s eta 0:00:03\n",
      "   ----------------------------- ---------- 19.4/26.2 MB 3.5 MB/s eta 0:00:02\n",
      "   ------------------------------ --------- 19.9/26.2 MB 3.5 MB/s eta 0:00:02\n",
      "   ------------------------------- -------- 20.7/26.2 MB 3.5 MB/s eta 0:00:02\n",
      "   -------------------------------- ------- 21.5/26.2 MB 3.5 MB/s eta 0:00:02\n",
      "   --------------------------------- ------ 22.3/26.2 MB 3.5 MB/s eta 0:00:02\n",
      "   ----------------------------------- ---- 23.1/26.2 MB 3.5 MB/s eta 0:00:01\n",
      "   ------------------------------------ --- 23.9/26.2 MB 3.5 MB/s eta 0:00:01\n",
      "   ------------------------------------- -- 24.6/26.2 MB 3.5 MB/s eta 0:00:01\n",
      "   -------------------------------------- - 25.4/26.2 MB 3.5 MB/s eta 0:00:01\n",
      "   ---------------------------------------  26.0/26.2 MB 3.5 MB/s eta 0:00:01\n",
      "   ---------------------------------------- 26.2/26.2 MB 3.5 MB/s eta 0:00:00\n",
      "Downloading xxhash-3.5.0-cp310-cp310-win_amd64.whl (30 kB)\n",
      "Installing collected packages: xxhash, pyarrow, propcache, multidict, fsspec, frozenlist, dill, async-timeout, aiohappyeyeballs, yarl, multiprocess, aiosignal, aiohttp, datasets\n",
      "\n",
      "   -- -------------------------------------  1/14 [pyarrow]\n",
      "   -- -------------------------------------  1/14 [pyarrow]\n",
      "   -- -------------------------------------  1/14 [pyarrow]\n",
      "   -- -------------------------------------  1/14 [pyarrow]\n",
      "   -- -------------------------------------  1/14 [pyarrow]\n",
      "   -- -------------------------------------  1/14 [pyarrow]\n",
      "   -- -------------------------------------  1/14 [pyarrow]\n",
      "   -- -------------------------------------  1/14 [pyarrow]\n",
      "   -- -------------------------------------  1/14 [pyarrow]\n",
      "   -- -------------------------------------  1/14 [pyarrow]\n",
      "   -- -------------------------------------  1/14 [pyarrow]\n",
      "   -- -------------------------------------  1/14 [pyarrow]\n",
      "   -- -------------------------------------  1/14 [pyarrow]\n",
      "   -- -------------------------------------  1/14 [pyarrow]\n",
      "   -- -------------------------------------  1/14 [pyarrow]\n",
      "   -- -------------------------------------  1/14 [pyarrow]\n",
      "   -- -------------------------------------  1/14 [pyarrow]\n",
      "   -- -------------------------------------  1/14 [pyarrow]\n",
      "   -- -------------------------------------  1/14 [pyarrow]\n",
      "   -- -------------------------------------  1/14 [pyarrow]\n",
      "   -- -------------------------------------  1/14 [pyarrow]\n",
      "   -- -------------------------------------  1/14 [pyarrow]\n",
      "   -- -------------------------------------  1/14 [pyarrow]\n",
      "   -- -------------------------------------  1/14 [pyarrow]\n",
      "   -- -------------------------------------  1/14 [pyarrow]\n",
      "   -- -------------------------------------  1/14 [pyarrow]\n",
      "   -- -------------------------------------  1/14 [pyarrow]\n",
      "   -- -------------------------------------  1/14 [pyarrow]\n",
      "   -- -------------------------------------  1/14 [pyarrow]\n",
      "   -- -------------------------------------  1/14 [pyarrow]\n",
      "   -- -------------------------------------  1/14 [pyarrow]\n",
      "   -- -------------------------------------  1/14 [pyarrow]\n",
      "   -- -------------------------------------  1/14 [pyarrow]\n",
      "   -------- -------------------------------  3/14 [multidict]\n",
      "  Attempting uninstall: fsspec\n",
      "   -------- -------------------------------  3/14 [multidict]\n",
      "    Found existing installation: fsspec 2025.7.0\n",
      "   -------- -------------------------------  3/14 [multidict]\n",
      "   ----------- ----------------------------  4/14 [fsspec]\n",
      "    Uninstalling fsspec-2025.7.0:\n",
      "   ----------- ----------------------------  4/14 [fsspec]\n",
      "      Successfully uninstalled fsspec-2025.7.0\n",
      "   ----------- ----------------------------  4/14 [fsspec]\n",
      "   ----------- ----------------------------  4/14 [fsspec]\n",
      "   ----------- ----------------------------  4/14 [fsspec]\n",
      "   ----------- ----------------------------  4/14 [fsspec]\n",
      "   ----------- ----------------------------  4/14 [fsspec]\n",
      "   ----------- ----------------------------  4/14 [fsspec]\n",
      "   ----------- ----------------------------  4/14 [fsspec]\n",
      "   ----------- ----------------------------  4/14 [fsspec]\n",
      "   ----------- ----------------------------  4/14 [fsspec]\n",
      "   ----------- ----------------------------  4/14 [fsspec]\n",
      "   ----------- ----------------------------  4/14 [fsspec]\n",
      "   -------------- -------------------------  5/14 [frozenlist]\n",
      "   ----------------- ----------------------  6/14 [dill]\n",
      "   ----------------- ----------------------  6/14 [dill]\n",
      "   ----------------- ----------------------  6/14 [dill]\n",
      "   ----------------- ----------------------  6/14 [dill]\n",
      "   ----------------- ----------------------  6/14 [dill]\n",
      "   ----------------- ----------------------  6/14 [dill]\n",
      "   ----------------- ----------------------  6/14 [dill]\n",
      "   ----------------- ----------------------  6/14 [dill]\n",
      "   ---------------------- -----------------  8/14 [aiohappyeyeballs]\n",
      "   ------------------------- --------------  9/14 [yarl]\n",
      "   ---------------------------- ----------- 10/14 [multiprocess]\n",
      "   ---------------------------- ----------- 10/14 [multiprocess]\n",
      "   ---------------------------- ----------- 10/14 [multiprocess]\n",
      "   ---------------------------- ----------- 10/14 [multiprocess]\n",
      "   ---------------------------- ----------- 10/14 [multiprocess]\n",
      "   ---------------------------- ----------- 10/14 [multiprocess]\n",
      "   ------------------------------- -------- 11/14 [aiosignal]\n",
      "   ---------------------------------- ----- 12/14 [aiohttp]\n",
      "   ---------------------------------- ----- 12/14 [aiohttp]\n",
      "   ---------------------------------- ----- 12/14 [aiohttp]\n",
      "   ---------------------------------- ----- 12/14 [aiohttp]\n",
      "   ---------------------------------- ----- 12/14 [aiohttp]\n",
      "   ---------------------------------- ----- 12/14 [aiohttp]\n",
      "   ---------------------------------- ----- 12/14 [aiohttp]\n",
      "   ---------------------------------- ----- 12/14 [aiohttp]\n",
      "   ---------------------------------- ----- 12/14 [aiohttp]\n",
      "   ---------------------------------- ----- 12/14 [aiohttp]\n",
      "   ---------------------------------- ----- 12/14 [aiohttp]\n",
      "   ------------------------------------- -- 13/14 [datasets]\n",
      "   ------------------------------------- -- 13/14 [datasets]\n",
      "   ------------------------------------- -- 13/14 [datasets]\n",
      "   ------------------------------------- -- 13/14 [datasets]\n",
      "   ------------------------------------- -- 13/14 [datasets]\n",
      "   ------------------------------------- -- 13/14 [datasets]\n",
      "   ------------------------------------- -- 13/14 [datasets]\n",
      "   ------------------------------------- -- 13/14 [datasets]\n",
      "   ------------------------------------- -- 13/14 [datasets]\n",
      "   ------------------------------------- -- 13/14 [datasets]\n",
      "   ------------------------------------- -- 13/14 [datasets]\n",
      "   ------------------------------------- -- 13/14 [datasets]\n",
      "   ------------------------------------- -- 13/14 [datasets]\n",
      "   ------------------------------------- -- 13/14 [datasets]\n",
      "   ------------------------------------- -- 13/14 [datasets]\n",
      "   ------------------------------------- -- 13/14 [datasets]\n",
      "   ------------------------------------- -- 13/14 [datasets]\n",
      "   ------------------------------------- -- 13/14 [datasets]\n",
      "   ------------------------------------- -- 13/14 [datasets]\n",
      "   ------------------------------------- -- 13/14 [datasets]\n",
      "   ------------------------------------- -- 13/14 [datasets]\n",
      "   ---------------------------------------- 14/14 [datasets]\n",
      "\n",
      "Successfully installed aiohappyeyeballs-2.6.1 aiohttp-3.12.14 aiosignal-1.4.0 async-timeout-5.0.1 datasets-4.0.0 dill-0.3.8 frozenlist-1.7.0 fsspec-2025.3.0 multidict-6.6.3 multiprocess-0.70.16 propcache-0.3.2 pyarrow-21.0.0 xxhash-3.5.0 yarl-1.20.1\n"
     ]
    }
   ],
   "source": [
    "import sys\n",
    "!{sys.executable} -m pip install datasets\n"
   ]
  },
  {
   "cell_type": "code",
   "execution_count": 17,
   "id": "1ff4be10-16b0-433e-86d8-d18f25179f5b",
   "metadata": {},
   "outputs": [],
   "source": [
    "model_checkpoint = \"Helsinki-NLP/opus-mt-en-hi\""
   ]
  },
  {
   "cell_type": "code",
   "execution_count": 18,
   "id": "260f429a-0ce9-4dd2-aa20-1f686e25ca67",
   "metadata": {},
   "outputs": [],
   "source": [
    "raw_dataset = load_dataset(\"cfilt/iitb-english-hindi\")"
   ]
  },
  {
   "cell_type": "code",
   "execution_count": 19,
   "id": "f966b1d8-72da-4daa-865c-1170f6428377",
   "metadata": {},
   "outputs": [
    {
     "data": {
      "text/plain": [
       "DatasetDict({\n",
       "    train: Dataset({\n",
       "        features: ['translation'],\n",
       "        num_rows: 1659083\n",
       "    })\n",
       "    validation: Dataset({\n",
       "        features: ['translation'],\n",
       "        num_rows: 520\n",
       "    })\n",
       "    test: Dataset({\n",
       "        features: ['translation'],\n",
       "        num_rows: 2507\n",
       "    })\n",
       "})"
      ]
     },
     "execution_count": 19,
     "metadata": {},
     "output_type": "execute_result"
    }
   ],
   "source": [
    "raw_dataset"
   ]
  },
  {
   "cell_type": "code",
   "execution_count": 20,
   "id": "5fe64ed1-e972-4324-9e52-a073456e8e5b",
   "metadata": {},
   "outputs": [
    {
     "data": {
      "text/plain": [
       "{'translation': {'en': 'Give your application an accessibility workout',\n",
       "  'hi': 'अपने अनुप्रयोग को पहुंचनीयता व्यायाम का लाभ दें'}}"
      ]
     },
     "execution_count": 20,
     "metadata": {},
     "output_type": "execute_result"
    }
   ],
   "source": [
    "raw_dataset['train'][0]"
   ]
  },
  {
   "cell_type": "code",
   "execution_count": 24,
   "id": "5a0c9fd0-3bb7-4f2f-b0f8-ffca305e50e9",
   "metadata": {},
   "outputs": [
    {
     "name": "stdout",
     "output_type": "stream",
     "text": [
      "Collecting sentencepiece\n",
      "  Downloading sentencepiece-0.2.0-cp310-cp310-win_amd64.whl.metadata (8.3 kB)\n",
      "Downloading sentencepiece-0.2.0-cp310-cp310-win_amd64.whl (991 kB)\n",
      "   ---------------------------------------- 0.0/991.5 kB ? eta -:--:--\n",
      "   ---------- ----------------------------- 262.1/991.5 kB ? eta -:--:--\n",
      "   ---------------------------------------- 991.5/991.5 kB 2.8 MB/s eta 0:00:00\n",
      "Installing collected packages: sentencepiece\n",
      "Successfully installed sentencepiece-0.2.0\n"
     ]
    }
   ],
   "source": [
    "!{sys.executable} -m pip install sentencepiece"
   ]
  },
  {
   "cell_type": "code",
   "execution_count": 26,
   "id": "0ed3f8c9-e33d-416a-a061-a12495ae2fd4",
   "metadata": {},
   "outputs": [
    {
     "name": "stdout",
     "output_type": "stream",
     "text": [
      "Helsinki-NLP/opus-mt-en-hi\n"
     ]
    }
   ],
   "source": [
    "print(model_checkpoint)\n"
   ]
  },
  {
   "cell_type": "code",
   "execution_count": 31,
   "id": "4d88ce97-794b-4d1c-ba61-56f4a71546be",
   "metadata": {},
   "outputs": [
    {
     "name": "stdout",
     "output_type": "stream",
     "text": [
      "Requirement already satisfied: sentencepiece in c:\\users\\hp\\desktop\\ml\\tenser\\tfgpuenv\\lib\\site-packages (0.2.0)\n"
     ]
    }
   ],
   "source": [
    "import sys\n",
    "!{sys.executable} -m pip install sentencepiece\n"
   ]
  },
  {
   "cell_type": "code",
   "execution_count": 34,
   "id": "be6eece3-3c10-4555-be29-899431771e92",
   "metadata": {},
   "outputs": [
    {
     "ename": "ImportError",
     "evalue": "\nMarianTokenizer requires the SentencePiece library but it was not found in your environment. Check out the instructions on the\ninstallation page of its repo: https://github.com/google/sentencepiece#installation and follow the ones\nthat match your environment. Please note that you may need to restart your runtime after installation.\n",
     "output_type": "error",
     "traceback": [
      "\u001b[1;31m---------------------------------------------------------------------------\u001b[0m",
      "\u001b[1;31mImportError\u001b[0m                               Traceback (most recent call last)",
      "Cell \u001b[1;32mIn[34], line 4\u001b[0m\n\u001b[0;32m      1\u001b[0m \u001b[38;5;28;01mfrom\u001b[39;00m\u001b[38;5;250m \u001b[39m\u001b[38;5;21;01mtransformers\u001b[39;00m\u001b[38;5;250m \u001b[39m\u001b[38;5;28;01mimport\u001b[39;00m MarianTokenizer, TFMarianMTModel\n\u001b[0;32m      3\u001b[0m model_name \u001b[38;5;241m=\u001b[39m \u001b[38;5;124m\"\u001b[39m\u001b[38;5;124mHelsinki-NLP/opus-mt-en-hi\u001b[39m\u001b[38;5;124m\"\u001b[39m\n\u001b[1;32m----> 4\u001b[0m tokenizer \u001b[38;5;241m=\u001b[39m \u001b[43mMarianTokenizer\u001b[49m\u001b[38;5;241;43m.\u001b[39;49m\u001b[43mfrom_pretrained\u001b[49m(model_name)\n\u001b[0;32m      5\u001b[0m model \u001b[38;5;241m=\u001b[39m TFMarianMTModel\u001b[38;5;241m.\u001b[39mfrom_pretrained(model_name)\n",
      "File \u001b[1;32m~\\Desktop\\ml\\tenser\\tfgpuenv\\lib\\site-packages\\transformers\\utils\\import_utils.py:2116\u001b[0m, in \u001b[0;36mDummyObject.__getattribute__\u001b[1;34m(cls, key)\u001b[0m\n\u001b[0;32m   2114\u001b[0m \u001b[38;5;28;01mif\u001b[39;00m (key\u001b[38;5;241m.\u001b[39mstartswith(\u001b[38;5;124m\"\u001b[39m\u001b[38;5;124m_\u001b[39m\u001b[38;5;124m\"\u001b[39m) \u001b[38;5;129;01mand\u001b[39;00m key \u001b[38;5;241m!=\u001b[39m \u001b[38;5;124m\"\u001b[39m\u001b[38;5;124m_from_config\u001b[39m\u001b[38;5;124m\"\u001b[39m) \u001b[38;5;129;01mor\u001b[39;00m key \u001b[38;5;241m==\u001b[39m \u001b[38;5;124m\"\u001b[39m\u001b[38;5;124mis_dummy\u001b[39m\u001b[38;5;124m\"\u001b[39m \u001b[38;5;129;01mor\u001b[39;00m key \u001b[38;5;241m==\u001b[39m \u001b[38;5;124m\"\u001b[39m\u001b[38;5;124mmro\u001b[39m\u001b[38;5;124m\"\u001b[39m \u001b[38;5;129;01mor\u001b[39;00m key \u001b[38;5;241m==\u001b[39m \u001b[38;5;124m\"\u001b[39m\u001b[38;5;124mcall\u001b[39m\u001b[38;5;124m\"\u001b[39m:\n\u001b[0;32m   2115\u001b[0m     \u001b[38;5;28;01mreturn\u001b[39;00m \u001b[38;5;28msuper\u001b[39m()\u001b[38;5;241m.\u001b[39m\u001b[38;5;21m__getattribute__\u001b[39m(key)\n\u001b[1;32m-> 2116\u001b[0m \u001b[43mrequires_backends\u001b[49m\u001b[43m(\u001b[49m\u001b[38;5;28;43mcls\u001b[39;49m\u001b[43m,\u001b[49m\u001b[43m \u001b[49m\u001b[38;5;28;43mcls\u001b[39;49m\u001b[38;5;241;43m.\u001b[39;49m\u001b[43m_backends\u001b[49m\u001b[43m)\u001b[49m\n",
      "File \u001b[1;32m~\\Desktop\\ml\\tenser\\tfgpuenv\\lib\\site-packages\\transformers\\utils\\import_utils.py:2102\u001b[0m, in \u001b[0;36mrequires_backends\u001b[1;34m(obj, backends)\u001b[0m\n\u001b[0;32m   2099\u001b[0m         failed\u001b[38;5;241m.\u001b[39mappend(msg\u001b[38;5;241m.\u001b[39mformat(name))\n\u001b[0;32m   2101\u001b[0m \u001b[38;5;28;01mif\u001b[39;00m failed:\n\u001b[1;32m-> 2102\u001b[0m     \u001b[38;5;28;01mraise\u001b[39;00m \u001b[38;5;167;01mImportError\u001b[39;00m(\u001b[38;5;124m\"\u001b[39m\u001b[38;5;124m\"\u001b[39m\u001b[38;5;241m.\u001b[39mjoin(failed))\n",
      "\u001b[1;31mImportError\u001b[0m: \nMarianTokenizer requires the SentencePiece library but it was not found in your environment. Check out the instructions on the\ninstallation page of its repo: https://github.com/google/sentencepiece#installation and follow the ones\nthat match your environment. Please note that you may need to restart your runtime after installation.\n"
     ]
    }
   ],
   "source": [
    "from transformers import MarianTokenizer, TFMarianMTModel\n",
    "\n",
    "model_name = \"Helsinki-NLP/opus-mt-en-hi\"\n",
    "tokenizer = MarianTokenizer.from_pretrained(model_name)\n",
    "model = TFMarianMTModel.from_pretrained(model_name)"
   ]
  }
 ],
 "metadata": {
  "kernelspec": {
   "display_name": "Python (GPU-TF)",
   "language": "python",
   "name": "tfgpuenv"
  },
  "language_info": {
   "codemirror_mode": {
    "name": "ipython",
    "version": 3
   },
   "file_extension": ".py",
   "mimetype": "text/x-python",
   "name": "python",
   "nbconvert_exporter": "python",
   "pygments_lexer": "ipython3",
   "version": "3.10.9"
  }
 },
 "nbformat": 4,
 "nbformat_minor": 5
}
